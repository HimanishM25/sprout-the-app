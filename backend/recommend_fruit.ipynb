{
 "cells": [
  {
   "cell_type": "code",
   "execution_count": null,
   "id": "bb9f8120",
   "metadata": {},
   "outputs": [],
   "source": [
    "import pandas as pd"
   ]
  },
  {
   "cell_type": "code",
   "execution_count": null,
   "id": "6b257a7e",
   "metadata": {},
   "outputs": [],
   "source": [
    "df = pd.read_csv(\"dataset_sprout.csv\")"
   ]
  },
  {
   "cell_type": "code",
   "execution_count": null,
   "id": "41d6b1d6",
   "metadata": {},
   "outputs": [],
   "source": [
    "pd.set_option('display.max_columns', 8)\n",
    "pd.set_option('display.max_rows', 159)\n",
    "df.set_index('Sr.No.', inplace = True)"
   ]
  },
  {
   "cell_type": "code",
   "execution_count": null,
   "id": "40115878",
   "metadata": {},
   "outputs": [],
   "source": [
    "df"
   ]
  },
  {
   "cell_type": "code",
   "execution_count": null,
   "id": "db4ae8a5",
   "metadata": {},
   "outputs": [],
   "source": [
    "temp = float(input('Enter the temperature of your area in celsius: '))\n",
    "soil_type = input('What type of soil are you using: ')\n",
    "for x in range(1,159):\n",
    "    if ((temp >= (df.loc[x,\"MinTemp\"])) and (temp <= (df.loc[x,\"MaxTemp\"])) and (df.loc[x, \"Type\"] == \"Fruit\") and (soil_type in df.loc[x,\"SoilType\"])):\n",
    "         print(df.loc[x,\"Name\"])"
   ]
  },
  {
   "cell_type": "code",
   "execution_count": null,
   "id": "9347e8d3",
   "metadata": {},
   "outputs": [],
   "source": []
  }
 ],
 "metadata": {
  "kernelspec": {
   "display_name": "Python 3 (ipykernel)",
   "language": "python",
   "name": "python3"
  },
  "language_info": {
   "codemirror_mode": {
    "name": "ipython",
    "version": 3
   },
   "file_extension": ".py",
   "mimetype": "text/x-python",
   "name": "python",
   "nbconvert_exporter": "python",
   "pygments_lexer": "ipython3",
   "version": "3.9.5"
  }
 },
 "nbformat": 4,
 "nbformat_minor": 5
}
