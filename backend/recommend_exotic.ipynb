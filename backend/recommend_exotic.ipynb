{
 "cells": [
  {
   "cell_type": "code",
   "execution_count": 1,
   "id": "1d8a9f3e",
   "metadata": {},
   "outputs": [],
   "source": [
    "import pandas as pd "
   ]
  },
  {
   "cell_type": "code",
   "execution_count": 2,
   "id": "df983615",
   "metadata": {},
   "outputs": [],
   "source": [
    "df = pd.read_csv(\"dataset_sprout.csv\")"
   ]
  },
  {
   "cell_type": "code",
   "execution_count": 3,
   "id": "97569e91",
   "metadata": {},
   "outputs": [],
   "source": [
    "pd.set_option('display.max_columns', 8)\n",
    "pd.set_option('display.max_rows', 159)\n",
    "df.set_index('Sr.No.', inplace = True)"
   ]
  },
  {
   "cell_type": "code",
   "execution_count": 4,
   "id": "ca770ee8",
   "metadata": {},
   "outputs": [
    {
     "name": "stdout",
     "output_type": "stream",
     "text": [
      "Enter the temperature of your area in celsius: 15\n",
      "What type of soil are you using: Loamy soil\n",
      "Chinese Evergreen\n",
      "Money Plant\n",
      "Warneck Dracaena\n",
      "Azalea\n",
      "Green Spider Plant\n",
      "Lady's Slipper Orchid\n",
      "Zamioculcas Zamiifolia\n",
      "Lemon Button Fern\n",
      "Dumb Cane\n",
      "Kalanchoe\n"
     ]
    }
   ],
   "source": [
    "temp = float(input('Enter the temperature of your area in celsius: '))\n",
    "soil_type = input('What type of soil are you using: ')\n",
    "for x in range(1,159):\n",
    "    if ((temp >= (df.loc[x,\"MinTemp\"])) and (temp <= (df.loc[x,\"MaxTemp\"])) and (df.loc[x, \"Type\"] == \"Exotic\") and (soil_type in df.loc[x,\"SoilType\"])):\n",
    "         print(df.loc[x,\"Name\"])"
   ]
  },
  {
   "cell_type": "code",
   "execution_count": null,
   "id": "ac8ca840",
   "metadata": {},
   "outputs": [],
   "source": []
  }
 ],
 "metadata": {
  "kernelspec": {
   "display_name": "Python 3 (ipykernel)",
   "language": "python",
   "name": "python3"
  },
  "language_info": {
   "codemirror_mode": {
    "name": "ipython",
    "version": 3
   },
   "file_extension": ".py",
   "mimetype": "text/x-python",
   "name": "python",
   "nbconvert_exporter": "python",
   "pygments_lexer": "ipython3",
   "version": "3.9.5"
  }
 },
 "nbformat": 4,
 "nbformat_minor": 5
}
