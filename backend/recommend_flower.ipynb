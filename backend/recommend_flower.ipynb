{
 "cells": [
  {
   "cell_type": "code",
   "execution_count": 1,
   "id": "6f633636",
   "metadata": {},
   "outputs": [],
   "source": [
    "import pandas as pd"
   ]
  },
  {
   "cell_type": "code",
   "execution_count": 2,
   "id": "6ac6677e",
   "metadata": {},
   "outputs": [],
   "source": [
    "df = pd.read_csv(\"dataset_sprout.csv\")"
   ]
  },
  {
   "cell_type": "code",
   "execution_count": 3,
   "id": "f077a9a0",
   "metadata": {},
   "outputs": [],
   "source": [
    "pd.set_option('display.max_columns', 8)\n",
    "pd.set_option('display.max_rows', 159)\n",
    "df.set_index('Sr.No.', inplace = True)"
   ]
  },
  {
   "cell_type": "code",
   "execution_count": 4,
   "id": "3fa05500",
   "metadata": {},
   "outputs": [
    {
     "name": "stdout",
     "output_type": "stream",
     "text": [
      "Enter the temperature of your area in celsius: 10\n",
      "What type of soil are you using: Sandy soil\n",
      "Tulip\n",
      "Pansy\n",
      "Camellia\n",
      "Marigold\n",
      "Peony\n"
     ]
    }
   ],
   "source": [
    "temp = float(input('Enter the temperature of your area in celsius: '))\n",
    "soil_type = input('What type of soil are you using: ')\n",
    "for x in range(1,159):\n",
    "    if ((temp >= (df.loc[x,\"MinTemp\"])) and (temp <= (df.loc[x,\"MaxTemp\"])) and (df.loc[x, \"Type\"] == \"Flower\") and (soil_type in df.loc[x,\"SoilType\"])):\n",
    "         print(df.loc[x,\"Name\"])"
   ]
  },
  {
   "cell_type": "code",
   "execution_count": null,
   "id": "cb8dd976",
   "metadata": {},
   "outputs": [],
   "source": []
  }
 ],
 "metadata": {
  "kernelspec": {
   "display_name": "Python 3 (ipykernel)",
   "language": "python",
   "name": "python3"
  },
  "language_info": {
   "codemirror_mode": {
    "name": "ipython",
    "version": 3
   },
   "file_extension": ".py",
   "mimetype": "text/x-python",
   "name": "python",
   "nbconvert_exporter": "python",
   "pygments_lexer": "ipython3",
   "version": "3.9.5"
  }
 },
 "nbformat": 4,
 "nbformat_minor": 5
}
